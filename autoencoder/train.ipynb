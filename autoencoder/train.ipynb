{
 "cells": [
  {
   "cell_type": "code",
   "execution_count": null,
   "metadata": {},
   "outputs": [],
   "source": [
    "import numpy as np\n",
    "import matplotlib.pyplot as plt"
   ]
  },
  {
   "cell_type": "code",
   "execution_count": null,
   "metadata": {},
   "outputs": [],
   "source": [
    "import torch\n",
    "import torch.nn as nn\n",
    "import torch.optim as optim"
   ]
  },
  {
   "cell_type": "code",
   "execution_count": null,
   "metadata": {},
   "outputs": [],
   "source": [
    "from utils import load_mnist\n",
    "from trainer import Trainer"
   ]
  },
  {
   "cell_type": "code",
   "execution_count": null,
   "metadata": {},
   "outputs": [],
   "source": [
    "from argparse import Namespace\n",
    "\n",
    "config = {\n",
    "    'train_ratio': .8,\n",
    "    'batch_size': 256,\n",
    "    'n_epochs': 50,\n",
    "    'verbose': 1,\n",
    "    'btl_size': 2\n",
    "}\n",
    "\n",
    "config = Namespace(**config)\n",
    "\n",
    "print(config)"
   ]
  },
  {
   "cell_type": "code",
   "execution_count": null,
   "metadata": {},
   "outputs": [],
   "source": [
    "def show_image(x):\n",
    "    if x.dim() == 1:\n",
    "        x = x.view(int(x.size(0) ** .5), -1)\n",
    "    \n",
    "    plt.imshow(x, cmap='gray')\n",
    "    plt.show()"
   ]
  },
  {
   "cell_type": "code",
   "execution_count": null,
   "metadata": {},
   "outputs": [],
   "source": [
    "train_x, train_y = load_mnist(flatten=True)\n",
    "test_x, test_y = load_mnist(is_train=False, flatten=True)\n",
    "\n",
    "train_cnt = int(train_x.size(0) * config.train_ratio)\n",
    "valid_cnt = train_x.size(0) - train_cnt\n",
    "\n",
    "# Shuffle dataset to split into train/valid set.\n",
    "indices = torch.randperm(train_x.size(0))\n",
    "train_x, valid_x = torch.index_select(\n",
    "    train_x,\n",
    "    dim=0,\n",
    "    index=indices\n",
    ").split([train_cnt, valid_cnt], dim=0)\n",
    "train_y, valid_y = torch.index_select(\n",
    "    train_y,\n",
    "    dim=0,\n",
    "    index=indices\n",
    ").split([train_cnt, valid_cnt], dim=0)\n",
    "\n",
    "print(\"Train:\", train_x.shape, train_y.shape)\n",
    "print(\"Valid:\", valid_x.shape, valid_y.shape)\n",
    "print(\"Test:\", test_x.shape, test_y.shape)"
   ]
  },
  {
   "cell_type": "code",
   "execution_count": null,
   "metadata": {},
   "outputs": [],
   "source": [
    "from model import Autoencoder"
   ]
  },
  {
   "cell_type": "code",
   "execution_count": null,
   "metadata": {},
   "outputs": [],
   "source": [
    "model = Autoencoder(btl_size=config.btl_size)\n",
    "optimizer = optim.Adam(model.parameters())\n",
    "crit = nn.MSELoss()\n",
    "\n",
    "trainer = Trainer(model, optimizer, crit)"
   ]
  },
  {
   "cell_type": "code",
   "execution_count": null,
   "metadata": {
    "scrolled": false
   },
   "outputs": [],
   "source": [
    "trainer.train((train_x, train_x), (valid_x, valid_x), config)"
   ]
  },
  {
   "cell_type": "markdown",
   "metadata": {},
   "source": [
    "## Manifold"
   ]
  },
  {
   "cell_type": "code",
   "execution_count": null,
   "metadata": {},
   "outputs": [],
   "source": [
    "with torch.no_grad():\n",
    "    import random\n",
    "\n",
    "    index1 = int(random.random() * test_x.size(0))\n",
    "    index2 = int(random.random() * test_x.size(0))\n",
    "\n",
    "    z1 = model.encoder(test_x[index1].view(1, -1))\n",
    "    z2 = model.encoder(test_x[index2].view(1, -1))\n",
    "\n",
    "    recon = model.decoder((z1 + z2) / 2).squeez()\n",
    "\n",
    "    show_image(test_x[index1])\n",
    "    show_image(test_x[index2])\n",
    "    show_image((test_x[index1] + test_x[index2]) / 2)\n",
    "    show_image(recon)"
   ]
  },
  {
   "cell_type": "markdown",
   "metadata": {},
   "source": [
    "## Test"
   ]
  },
  {
   "cell_type": "code",
   "execution_count": null,
   "metadata": {},
   "outputs": [],
   "source": [
    "with torch.no_grad():\n",
    "    import random\n",
    "\n",
    "    index = int(random.random() * test_x.size(0))\n",
    "\n",
    "    recon = model(test_x[index].view(1, -1)).squeeze()\n",
    "\n",
    "    show_image(test_x[index])\n",
    "    show_image(recon)"
   ]
  },
  {
   "cell_type": "markdown",
   "metadata": {},
   "source": [
    "## Latent Space"
   ]
  },
  {
   "cell_type": "code",
   "execution_count": null,
   "metadata": {},
   "outputs": [],
   "source": [
    "if config.btl_size == 2:\n",
    "    color_map = [\n",
    "        'brown', 'red', 'orange', 'yellow', 'green',\n",
    "        'blue', 'navy', 'purple', 'gray', 'black',\n",
    "    ]\n",
    "    \n",
    "    plt.figure(figsize=(20, 10))\n",
    "    with torch.no_grad():\n",
    "        latents = model.encoder(test_x[:1000])\n",
    "        \n",
    "        for i in range(10):\n",
    "            target_latents = latents[test_y[:1000] == i]\n",
    "            target_y = test_y[:1000][test_y[:1000] == i]\n",
    "            plt.scatter(target_latents[:, 0],\n",
    "                        target_latents[:, 1],\n",
    "                        marker='o',\n",
    "                        color=color_map[i],\n",
    "                        label=i)\n",
    "        \n",
    "        plt.legend()\n",
    "        plt.grid(axis='both')\n",
    "        plt.show()"
   ]
  },
  {
   "cell_type": "code",
   "execution_count": null,
   "metadata": {},
   "outputs": [],
   "source": [
    "if config.btl_size == 2:\n",
    "    min_range, max_range = -2., 2.\n",
    "    n = 20\n",
    "    step = (max_range - min_range) / float(n)\n",
    "    \n",
    "    with torch.no_grad():\n",
    "        lines = []\n",
    "\n",
    "        for v1 in np.arange(min_range, max_range, step):\n",
    "            z = torch.stack([\n",
    "                torch.FloatTensor([v1] * n),\n",
    "                torch.FloatTensor([v2 for v2 in np.arange(min_range,\n",
    "                                                          max_range, step)]),\n",
    "            ], dim=-1)\n",
    "            \n",
    "            line = torch.clamp(model.decoder(z).view(n, 28, 28), 0, 1)\n",
    "            line = torch.cat([line[i] for i in range(n - 1, 0, -1)], dim=0)\n",
    "            lines += [line]\n",
    "            \n",
    "        lines = torch.cat(lines, dim=-1)\n",
    "        plt.figure(figsize=(20, 20))\n",
    "        show_image(lines)"
   ]
  }
 ],
 "metadata": {
  "kernelspec": {
   "display_name": "Python 3",
   "language": "python",
   "name": "python3"
  },
  "language_info": {
   "codemirror_mode": {
    "name": "ipython",
    "version": 3
   },
   "file_extension": ".py",
   "mimetype": "text/x-python",
   "name": "python",
   "nbconvert_exporter": "python",
   "pygments_lexer": "ipython3",
   "version": "3.9.7"
  }
 },
 "nbformat": 4,
 "nbformat_minor": 4
}
